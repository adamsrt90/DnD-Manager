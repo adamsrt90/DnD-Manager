{
 "cells": [
  {
   "cell_type": "code",
   "execution_count": 12,
   "id": "described-melissa",
   "metadata": {},
   "outputs": [],
   "source": [
    "import random\n",
    "import pandas as pd"
   ]
  },
  {
   "cell_type": "code",
   "execution_count": 13,
   "id": "premium-parcel",
   "metadata": {},
   "outputs": [],
   "source": [
    "class Dungeon_Master:\n",
    "    \n",
    "    def __init__(self, Campaign, **Monster):\n",
    "        self.Campaign = Campaign\n",
    "        self.Monsters = list(Monster)\n",
    "    \n",
    "class Character:\n",
    "    \n",
    "    def __init__(self, Name, AC, Init, Str, Dex, Con, Int, Wis, Char, Level, Walk):\n",
    "        self.Name = Name\n",
    "        self.AC = AC\n",
    "        self.Init = Init\n",
    "        self.Str = Str\n",
    "        self.Dex = Dex\n",
    "        self.Con = Con\n",
    "        self.Int = Int\n",
    "        self.Wis = Wis\n",
    "        self.Char = Char\n",
    "        self.Level = Level\n",
    "        self.Walk = Walk\n",
    "        self.Items = {}\n",
    "        self.Weapons = []\n",
    "            \n",
    "    def prof_calculator(self):\n",
    "        Prof = 0\n",
    "        if self.Level <= 4:\n",
    "            Prof = 2\n",
    "            print(Prof)\n",
    "        elif self.Level <= 8 > 4:\n",
    "            Prof = 3\n",
    "            print(Prof)\n",
    "        elif self.Level <= 12 >8:\n",
    "            Prof = 4\n",
    "            print(Prof)\n",
    "        elif self.Level <=16 >12:\n",
    "            Prof = 5\n",
    "            print(Prof)\n",
    "        elif self.Level <=20 >16:\n",
    "            Prof = 6\n",
    "            print(Prof)\n",
    "        else:\n",
    "            print(\"Level is out of range!\")\n",
    "    \n",
    "    def add_items(self,**items):\n",
    "        for key, value in items.items():\n",
    "            self.Items[key] = value\n",
    "    \n",
    "    def remove_items(self, **items):\n",
    "        for key, value in items.items():\n",
    "            del self.Items[key]\n",
    "        \n",
    "    \n",
    "    def add_weapons(self, *weapons):\n",
    "        for weapon in weapons:\n",
    "            self.Weapons.append(weapon)\n",
    "            \n",
    "    def remove_weapon(self, *weapons):\n",
    "        for weapon in weapons:\n",
    "            self.Weapons.remove(weapon)\n",
    "        \n",
    "        \n",
    "            \n",
    "    \n",
    "class Encounter:\n",
    "    def __init__(self,**Entities):\n",
    "        self.Entities = Entities\n",
    "    \n",
    "    def dice_roll(self, *args):\n",
    "        for arg in self.args:\n",
    "            return rand.randint(1,arg)\n",
    "            "
   ]
  },
  {
   "cell_type": "code",
   "execution_count": 14,
   "id": "colonial-tissue",
   "metadata": {},
   "outputs": [],
   "source": [
    "Kelevra = Character(\"Kelevra\", 13, 1, 12, 13, 14, 8, 13, 17,4,30)"
   ]
  },
  {
   "cell_type": "code",
   "execution_count": 15,
   "id": "historical-advance",
   "metadata": {},
   "outputs": [],
   "source": [
    "Kelevra.Level = 4\n"
   ]
  },
  {
   "cell_type": "code",
   "execution_count": 16,
   "id": "classified-railway",
   "metadata": {},
   "outputs": [],
   "source": [
    "BabaYetu = Character(\"Baba Yetu\",16, 1, 18, 13,15, 8, 10, 13, 4, 30)"
   ]
  },
  {
   "cell_type": "code",
   "execution_count": 17,
   "id": "lyric-gauge",
   "metadata": {},
   "outputs": [],
   "source": [
    "Kelevra.add_items(Gold = 20, Silver = 10)"
   ]
  },
  {
   "cell_type": "code",
   "execution_count": 18,
   "id": "surprised-springfield",
   "metadata": {},
   "outputs": [
    {
     "data": {
      "text/plain": [
       "{'Gold': 20, 'Silver': 10}"
      ]
     },
     "execution_count": 18,
     "metadata": {},
     "output_type": "execute_result"
    }
   ],
   "source": [
    "Kelevra.Items"
   ]
  },
  {
   "cell_type": "code",
   "execution_count": 25,
   "id": "loose-toner",
   "metadata": {},
   "outputs": [],
   "source": [
    "Kelevra.remove_weapon(\"Knife\", \"Dagger\", \"Darts\")"
   ]
  },
  {
   "cell_type": "code",
   "execution_count": 26,
   "id": "separated-transition",
   "metadata": {},
   "outputs": [
    {
     "data": {
      "text/plain": [
       "['Shield', 'Shield']"
      ]
     },
     "execution_count": 26,
     "metadata": {},
     "output_type": "execute_result"
    }
   ],
   "source": [
    "Kelevra.Weapons"
   ]
  },
  {
   "cell_type": "code",
   "execution_count": 22,
   "id": "changing-territory",
   "metadata": {},
   "outputs": [],
   "source": [
    "Kelevra.add_weapons(\"Shield\")"
   ]
  }
 ],
 "metadata": {
  "kernelspec": {
   "display_name": "Python 3",
   "language": "python",
   "name": "python3"
  },
  "language_info": {
   "codemirror_mode": {
    "name": "ipython",
    "version": 3
   },
   "file_extension": ".py",
   "mimetype": "text/x-python",
   "name": "python",
   "nbconvert_exporter": "python",
   "pygments_lexer": "ipython3",
   "version": "3.8.5"
  }
 },
 "nbformat": 4,
 "nbformat_minor": 5
}
