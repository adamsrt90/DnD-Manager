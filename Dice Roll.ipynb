{
 "cells": [
  {
   "cell_type": "code",
   "execution_count": null,
   "metadata": {},
   "outputs": [],
   "source": [
    "import random"
   ]
  },
  {
   "cell_type": "code",
   "execution_count": null,
   "metadata": {},
   "outputs": [],
   "source": [
    "def dice_roll(*dice):\n",
    "    result = 0\n",
    "    for die in dice:\n",
    "        print(f'You rolled a D{die}')\n",
    "        if die == 20:\n",
    "            roll = random.randint(1,die)\n",
    "            if roll == 20:\n",
    "                print(f'{roll} Critical Success!')\n",
    "            elif roll == 1:\n",
    "                print(f'{roll} Critical Fail!')\n",
    "            else:\n",
    "                print(f'Your D20 result is {roll}')\n",
    "        else:\n",
    "            roll = random.randint(1,die)\n",
    "            print(f'and your D{die}\\'s result is {roll}')\n",
    "            result += roll\n",
    "    return (f'Your total is {result}')"
   ]
  }
 ],
 "metadata": {
  "kernelspec": {
   "display_name": "Python 3",
   "language": "python",
   "name": "python3"
  },
  "language_info": {
   "codemirror_mode": {
    "name": "ipython",
    "version": 3
   },
   "file_extension": ".py",
   "mimetype": "text/x-python",
   "name": "python",
   "nbconvert_exporter": "python",
   "pygments_lexer": "ipython3",
   "version": "3.8.5"
  }
 },
 "nbformat": 4,
 "nbformat_minor": 4
}
